{
 "cells": [
  {
   "cell_type": "markdown",
   "metadata": {},
   "source": [
    "# TPC 2"
   ]
  },
  {
   "cell_type": "markdown",
   "metadata": {},
   "source": [
    " __Título__: Jogo \"Adivinha o número em que pensei\"\n",
    "__Subtítulo__: Programa que permite adivinhar o valor pensado pelo utilizador\n",
    "\n",
    "__Data de Início__: 2021-10-11\n",
    "__Supervisor__: Prof. José Carlos Leite Ramalho, http://www.di.uminho.pt/~jcr/\n",
    "__Autor__: Madalena Freitas Passos, A96500\n",
    "\n",
    "### __Resumo__:\n",
    "\n",
    "Com este trabalho tencionava-se desenvolver um programa que fosse capaz de adivinhar um valor, entre 0 e 100, pensado pelo jogador. Para tal recorreu-se a um método de _procura binária_, que consiste em procuras através de divisões sucessivas, dando origem a intervalos de pesquisa cada vez menores, retornado o valor pretendido. Este é um bom método a aplicar a listas ordenadas, como é o caso, e permite que o valor seja encontrado mais rápidamente.\n",
    "\n",
    "Este método é iniciado pela divisão da lista original em duas partes iguais, portanto, duas de 50 e o jogador seleciona a que incorpora o seu valor. De seguida, este procedimento é repetido, sendo acionado pelo controlo do jogador que indica se o seu valor é superior ou inferior àquele que lhe é sugerido pelo algoritmo, até que o mesmo seja encontrado, sendo que nesse caso é devolvida a mensagem de procura bem sucedida e o número de tentativas necessárias para que tal ocorresse.\n",
    " \n",
    "Por fim, é importante referir que neste caso, o número máximo de tentativas em que o valor deveria de ser encontrado seria 7, pelo que é um dado importante aquando da verificação do funcionamento do programa.\n",
    " \n"
   ]
  }
 ],
 "metadata": {
  "kernelspec": {
   "display_name": "Python 3",
   "language": "python",
   "name": "python3"
  },
  "language_info": {
   "codemirror_mode": {
    "name": "ipython",
    "version": 3
   },
   "file_extension": ".py",
   "mimetype": "text/x-python",
   "name": "python",
   "nbconvert_exporter": "python",
   "pygments_lexer": "ipython3",
   "version": "3.8.5"
  }
 },
 "nbformat": 4,
 "nbformat_minor": 4
}
