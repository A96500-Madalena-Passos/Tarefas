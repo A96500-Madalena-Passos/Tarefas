{
 "cells": [
  {
   "cell_type": "markdown",
   "metadata": {},
   "source": [
    "# TPC4"
   ]
  },
  {
   "cell_type": "markdown",
   "metadata": {},
   "source": [
    "__Título__: Funções\n",
    "\n",
    "__Subtítulo__: Programa que permite operar com funções\n",
    "\n",
    "__Data de Início__: 2021-10-27\n",
    "\n",
    "__Supervisor__: Prof. José Carlos Leite Ramalho, http://www.di.uminho.pt/~jcr/\n",
    "\n",
    "__Autor__: Madalena Freitas Passos, A96500\n",
    "\n",
    "### __Resumo__:\n",
    "Este trabalho tinha como principal objetivo desenvolver um programa que permitisse manipular funções, nomeadamente apresentá-las do modo tradicional, realizar operações matemáticas simples com as mesmas e criar listas de funções. \n",
    "\n",
    "No desenvolvimento deste projeto foram criadas diversas funções que recorrem a _tuplos_, um dos tipos de dados em _Python_ que organiza a informação de modo ordenado e não manipulável, exceto no caso em que estes são convertidos num diferente tipo de dados que permita essa alteração. Deste modo, conseguimos executar 9 opções diferentes sem que ocorra perda de dados e de forma a que estes estejam sempre mais organizados e prontos a utilizar com relativa facilidade."
   ]
  }
 ],
 "metadata": {
  "kernelspec": {
   "display_name": "Python 3",
   "language": "python",
   "name": "python3"
  },
  "language_info": {
   "codemirror_mode": {
    "name": "ipython",
    "version": 3
   },
   "file_extension": ".py",
   "mimetype": "text/x-python",
   "name": "python",
   "nbconvert_exporter": "python",
   "pygments_lexer": "ipython3",
   "version": "3.8.5"
  }
 },
 "nbformat": 4,
 "nbformat_minor": 4
}
