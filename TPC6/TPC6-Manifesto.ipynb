{
 "cells": [
  {
   "cell_type": "markdown",
   "metadata": {},
   "source": [
    "# TPC6\n",
    "\n",
    "__Título__: Representações Gráficas\n",
    "\n",
    "__Subtítulo__: Programa que permite gerar representações gráficas\n",
    "\n",
    "__Data de Início__: 2021-11-15\n",
    "\n",
    "__Supervisor__: Prof. José Carlos Leite Ramalho, http://www.di.uminho.pt/~jcr/\n",
    "\n",
    "__Autor__: Madalena Freitas Passos, A96500\n",
    "\n",
    "### __Resumo__:\n",
    "\n",
    "O objetivo deste trabalho era desenvolver um programa que permitisse representar gráficamente diversas funções e criar com as mesmas estruturas definidas, como quadrados concentricos.\n",
    "\n",
    "Para a criação deste programa recorreu-se à biblioteca de python referente à formação e apresentação de gráficos, _matplotlib_, definindo-se um intervalo para os valores de x e um segundo intervalo para os valores de y adaptando-os ao melhor ajuste dos gráficos de cada exercício.\n",
    "\n",
    "No primeiro exercício desta tarefa, desenhar um quadrado centrado na origem com 5 unidades de lado, definiram-se os 4 pontos que limitam as extremidades do quadrado unindo-as recorrendo às funcionalidades da biblioteca utilizada.\n",
    "\n",
    "Quanto ao segundo exercício, desenhar n quadrados concentricos e centralizados na origem, utilizou-se um ciclo que permitia desenhar cada quadrado com igual espaçamento entre os mesmos e com dimensão de lado equivalente ao número de quadrados que o utilizador definiu.\n",
    "\n",
    "Relativamente ao terceiro exercício, representar gráficamente três polinómios específicos, começou-se por definir o intervalo de x pedido e calcular, recorrendo ao módulo já previamente construido sobre polinómios, os valores de y para os valores de abcissa estabelecidos. Após efetuar a limitação de cada polinómio, adaptou-se a janela de visualização, recorrendo à funcionaliade _plot.xlim()_ e _plot.ylim()_ de acordo com as características definidas pelo enunciado.\n"
   ]
  }
 ],
 "metadata": {
  "kernelspec": {
   "display_name": "Python 3",
   "language": "python",
   "name": "python3"
  },
  "language_info": {
   "codemirror_mode": {
    "name": "ipython",
    "version": 3
   },
   "file_extension": ".py",
   "mimetype": "text/x-python",
   "name": "python",
   "nbconvert_exporter": "python",
   "pygments_lexer": "ipython3",
   "version": "3.8.5"
  }
 },
 "nbformat": 4,
 "nbformat_minor": 4
}
