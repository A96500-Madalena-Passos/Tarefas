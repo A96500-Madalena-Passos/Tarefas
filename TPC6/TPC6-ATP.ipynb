{
 "cells": [
  {
   "cell_type": "code",
   "execution_count": null,
   "metadata": {},
   "outputs": [],
   "source": [
    "import polinomio as pol\n",
    "import matplotlib.pyplot as plt\n",
    "\n",
    "p1= [(2,1),(-5,0)]\n",
    "p2= [(1,2),(-7,0)]\n",
    "p3= [(1,3),(-2,2),(1,0)]\n",
    "\n",
    "#Polinómio 1\n",
    "x1=[i for i in range (-100,100)]\n",
    "\n",
    "y1=[]\n",
    "\n",
    "for j in x1:\n",
    "    y1.append(pol.calcPol(p1, j))\n",
    "\n",
    "plt.plot(x1,y1,label='polinomio1')\n",
    "    \n",
    "#Polinómio 2\n",
    "x2=[i for i in range (-100,100)]\n",
    "y2=[]\n",
    "for a in x2:\n",
    "    y2.append(pol.calcPol(p2, a))\n",
    "    \n",
    "\n",
    "plt.plot(x2,y2,label='polinomio2')\n",
    "\n",
    "#Polinómio 3\n",
    "x3=[i for i in range (-100,100)]\n",
    "\n",
    "y3=[]\n",
    "\n",
    "for c in x3:\n",
    "    y3.append(pol.calcPol(p3, c))\n",
    "\n",
    "plt.plot(x3,y3,label='polinomio3')\n",
    "\n",
    "plt.ylim(-200,200)\n",
    "plt.xlim(-100,100)\n",
    "# naming the x axis\n",
    "plt.xlabel('x')\n",
    "# naming the y axis\n",
    "plt.ylabel('pol(x)')\n",
    "# giving a title to my graph\n",
    "plt.title('Polinómios')"
   ]
  }
 ],
 "metadata": {
  "kernelspec": {
   "display_name": "Python 3",
   "language": "python",
   "name": "python3"
  },
  "language_info": {
   "codemirror_mode": {
    "name": "ipython",
    "version": 3
   },
   "file_extension": ".py",
   "mimetype": "text/x-python",
   "name": "python",
   "nbconvert_exporter": "python",
   "pygments_lexer": "ipython3",
   "version": "3.8.5"
  }
 },
 "nbformat": 4,
 "nbformat_minor": 4
}
