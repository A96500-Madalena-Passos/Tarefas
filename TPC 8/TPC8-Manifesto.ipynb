{
 "cells": [
  {
   "cell_type": "markdown",
   "metadata": {},
   "source": [
    "# TPC 8\n",
    "\n",
    "__Título__: Desenvolvimento de Interfaces Gráficas\n",
    "\n",
    "__Subtítulo__: Programa para criar uma interface gráfica relativa à organização de registos médicos\n",
    "\n",
    "__Data de Início__: 2021-11-29\n",
    "\n",
    "__Supervisor__: Prof. José Carlos Leite Ramalho, http://www.di.uminho.pt/~jcr/\n",
    "\n",
    "__Autor__: Madalena Freitas Passos, A96500\n",
    "\n",
    "### __Resumo__:\n",
    "\n",
    "O objetivo deste trabalho era desenvolver uma interface gráfica que permite visualizar dados de registos médicos de acordo com três opções de menu, _Carregar_, _Modalidades_, _Por ano_, _Por clube_, _Listar_.\n",
    "\n",
    "Seguindo a opção ___Carregar___, na coluna lateral é possível observar uma mensagem referente à quantidade de registos existentes na base de dados _emd.csv_. Esta utilidade é obtida percorrendo a base de dados e recorrendo a um contador.\n",
    "\n",
    "Para a opção ___Modalidades___ é apresentada uma lista de modalidades na coluna lateral e uma nova janela abre apresentando um gráfico de barras laterais, gerado recorrendo à biblioteca de _Python_ _Matplotlib_, onde são apresentados o número de praticantes de cada modalidade, constantes no registo, tal como acontece para as funcionalidades ___Por ano___ e ___Por clube___.\n",
    "\n",
    "Quanto à funcionalidades ___Listar___, é gerada uma nova página onde aparece uma lista de registos constando na mesma apenas o _id_, a _data_, o _nome_ e se o indíviduo está _apto_ ou não. Para tal criou-se uma nova janela chamando a função ___janelaListar(L)___, que recebe como argumento a lista de strings referente aos registos ordenada por data, e cria a janela com um layout constituido somente por um elemento de texto como _headline_ e uma _listbox_.\n",
    "\n",
    "No desenvolvimento da janela principal, foi utilizada a biblioteca ___PySimpleGUI___, criando-se em primeiro lugar um painel com duas colunas, uma para o menu (_menu_list_column_) e a segunda para os dados a serem apresentados (_data_viewer_column_). Seguidamente gerou-se um layout em que constam as duas colunas divididas por um separador (_sg.VSeperator()_) e estabeleceu-se a janela (_sg.Window(\"Registos Médicos\", layout)_) definindo-se as suas dimensões (_window.Size=(800,400)_). Para terminar, foi adicionado um ciclo que, de acordo com o botão selecionado, efetua as ações indicadas acima, terminando o mesmo com o clique no botão de encerrar janela (_sg.WIN_CLOSED_)."
   ]
  }
 ],
 "metadata": {
  "language_info": {
   "name": "python"
  },
  "orig_nbformat": 4
 },
 "nbformat": 4,
 "nbformat_minor": 2
}
