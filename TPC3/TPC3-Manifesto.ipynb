{
 "cells": [
  {
   "cell_type": "markdown",
   "metadata": {},
   "source": [
    "# TPC 3"
   ]
  },
  {
   "cell_type": "markdown",
   "metadata": {},
   "source": [
    "__Título__: Bubble Sort\n",
    "\n",
    "__Subtítulo__: Programa que permite ordenar os elementos numéricos de uma lista\n",
    "\n",
    "__Data de Início__: 2021-10-18\n",
    "\n",
    "__Supervisor__: Prof. José Carlos Leite Ramalho, http://www.di.uminho.pt/~jcr/\n",
    "\n",
    "__Autor__: Madalena Freitas Passos, A96500\n",
    "\n",
    "\n",
    "### __Resumo__:\n",
    "\n",
    "O fundamento principal deste trabalho era desenvolver um programa que permitisse ordenar uma lista numérica de modo crescente, contudo para tal associou-se um programa ensinado em aula que ofereçe ao utilizador uma seleção de opções relativas à criação de uma lista pelo próprio ou de valores aleatórios, bem como da obtenção do valor máximo contido na mesma, ordenação crescente da lista e, por fim, de término de execução.\n",
    "\n",
    "Para ordenar a lista recorreu-se a um método denominado de _bubble sort_, que consiste em trocas sucessivas de valores comparados dois a dois, sendo que aquele que for mais elevado toma a posição posterior. Isto leva à necessidade de percorrer e analisar a lista várias vezes, sendo que para tal se optou por desenvolver dois ciclos _while_, o primeiro para coordenar a paragem da análise quando as trocas cessam e o segundo, inserido no anterior para realizar a ordenação."
   ]
  }
 ],
 "metadata": {
  "kernelspec": {
   "display_name": "Python 3",
   "language": "python",
   "name": "python3"
  },
  "language_info": {
   "codemirror_mode": {
    "name": "ipython",
    "version": 3
   },
   "file_extension": ".py",
   "mimetype": "text/x-python",
   "name": "python",
   "nbconvert_exporter": "python",
   "pygments_lexer": "ipython3",
   "version": "3.8.5"
  }
 },
 "nbformat": 4,
 "nbformat_minor": 4
}
